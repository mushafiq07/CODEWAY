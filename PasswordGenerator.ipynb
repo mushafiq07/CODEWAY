{
  "nbformat": 4,
  "nbformat_minor": 0,
  "metadata": {
    "colab": {
      "provenance": [],
      "authorship_tag": "ABX9TyMWZPYLKfd+VOevwecrisf6",
      "include_colab_link": true
    },
    "kernelspec": {
      "name": "python3",
      "display_name": "Python 3"
    },
    "language_info": {
      "name": "python"
    }
  },
  "cells": [
    {
      "cell_type": "markdown",
      "metadata": {
        "id": "view-in-github",
        "colab_type": "text"
      },
      "source": [
        "<a href=\"https://colab.research.google.com/github/mushafiq07/CODEWAY/blob/main/PasswordGenerator.ipynb\" target=\"_parent\"><img src=\"https://colab.research.google.com/assets/colab-badge.svg\" alt=\"Open In Colab\"/></a>"
      ]
    },
    {
      "cell_type": "code",
      "execution_count": null,
      "metadata": {
        "id": "S0yJ7iING9Ob"
      },
      "outputs": [],
      "source": [
        "import random\n",
        "import string\n",
        "\n",
        "def generate_password():\n",
        "    length = int(input(\"Enter the desired length of the password: \"))\n",
        "    if length < 4:\n",
        "        print(\"Password should be at least 4 characters long.\")\n",
        "        return None\n",
        "    lower_case = string.ascii_lowercase\n",
        "    upper_case = string.ascii_uppercase\n",
        "    digits = string.digits\n",
        "    symbols = string.punctuation\n",
        "    chars = lower_case + upper_case + digits + symbols\n",
        "    password = ''.join(random.choice(chars) for x in range(length))\n",
        "    return password\n",
        "\n",
        "if __name__ == '__main__':\n",
        "    print(\"Generated password: \", generate_password())\n"
      ]
    }
  ]
}