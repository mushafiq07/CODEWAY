{
  "cells": [
    {
      "cell_type": "markdown",
      "metadata": {
        "id": "view-in-github",
        "colab_type": "text"
      },
      "source": [
        "<a href=\"https://colab.research.google.com/github/mushafiq07/CODEWAY/blob/main/ToDoList.ipynb\" target=\"_parent\"><img src=\"https://colab.research.google.com/assets/colab-badge.svg\" alt=\"Open In Colab\"/></a>"
      ]
    },
    {
      "cell_type": "code",
      "execution_count": null,
      "metadata": {
        "colab": {
          "base_uri": "https://localhost:8080/"
        },
        "id": "545RFMmXzIVx",
        "outputId": "b4d2887d-ae96-4114-dcdb-704df81dd474"
      },
      "outputs": [
        {
          "output_type": "stream",
          "name": "stdout",
          "text": [
            "\n",
            "===== To Do List =====\n",
            "1. View Tasks\n",
            "2. Add Tasks\n",
            "3. Update\n",
            "4. Delete Tasks\n",
            "5. Save and Exit\n"
          ]
        }
      ],
      "source": [
        "import os\n",
        "\n",
        "def show_tasks(tasks):\n",
        "    if not tasks:\n",
        "        print(\"No task found\")\n",
        "    else:\n",
        "        for i, task in enumerate(tasks,1):\n",
        "            print(f\"{i}.{task}\")\n",
        "def add_task(tasks,new_tasks):\n",
        "    tasks.append(new_tasks)\n",
        "    print(\"Task added Successfully\")\n",
        "\n",
        "def update_task(tasks,index,updated_task):\n",
        "    if 1<=index <=len(tasks):\n",
        "        tasks[index-1]= updated_task\n",
        "        print(\"Task Updated Successfully\")\n",
        "    else:\n",
        "        print(\"Invalid index\")\n",
        "\n",
        "def delete_task(tasks,index):\n",
        "    if 1<=index <=len(tasks):\n",
        "        delete_task= tasks.pop(index-1)\n",
        "        print(f\"Task'{delete_task}' deleted succesfully\")\n",
        "    else:\n",
        "        print(\"Invalid index\")\n",
        "\n",
        "\n",
        "def save_task_to_file(file_path, tasks):\n",
        "    with open(file_path,\"w\") as file:\n",
        "        for task in tasks:\n",
        "            file.write(f\"{task}\\n\")\n",
        "\n",
        "\n",
        "\n",
        "def load_tasks_from_file(file_path):\n",
        "    task= []\n",
        "    if os.path.exists(file_path):\n",
        "        with open(file_path,\"r\") as file:\n",
        "            task=file.read().splitlines()\n",
        "    return task\n",
        "\n",
        "\n",
        "def main():\n",
        "    file_path = \"todo_list.txt\"\n",
        "    tasks = load_tasks_from_file(file_path)\n",
        "    while True:\n",
        "        print(\"\\n===== To Do List =====\")\n",
        "        print(\"1. View Tasks\")\n",
        "        print(\"2. Add Tasks\")\n",
        "        print(\"3. Update\")\n",
        "        print(\"4. Delete Tasks\")\n",
        "        print(\"5. Save and Exit\")\n",
        "        choice = input (\"Enter your choice (1-5):\")\n",
        "        if choice==\"1\":\n",
        "            show_tasks(tasks)\n",
        "        elif choice==\"2\":\n",
        "            new_task=input(\"Enter the task to add:\")\n",
        "            add_task(tasks,new_task)\n",
        "        elif choice==\"3\":\n",
        "            index=int(input(\"Enter the task index to update:\"))\n",
        "            updated_task=input(\"Enter the updated task:\")\n",
        "            update_task(tasks, index, updated_task)\n",
        "        elif choice==\"4\":\n",
        "            index=int(input(\"Enter the task index to delete:\"))\n",
        "            delete_task(tasks,index)\n",
        "        elif choice==\"5\":\n",
        "            save_task_to_file(file_path, tasks)\n",
        "            print(\"Tasks saved, Exiting....\")\n",
        "            break\n",
        "        else:\n",
        "            print(\"Invalid Choice... Please try again\")\n",
        "\n",
        "\n",
        "\n",
        "\n",
        "\n",
        "\n",
        "\n",
        "if __name__==\"__main__\":\n",
        "    main()"
      ]
    }
  ],
  "metadata": {
    "colab": {
      "provenance": [],
      "authorship_tag": "ABX9TyMbO6L5rj5G10ng8X+8dH1W",
      "include_colab_link": true
    },
    "kernelspec": {
      "display_name": "Python 3",
      "name": "python3"
    },
    "language_info": {
      "name": "python"
    }
  },
  "nbformat": 4,
  "nbformat_minor": 0
}