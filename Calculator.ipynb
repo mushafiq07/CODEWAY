{
  "nbformat": 4,
  "nbformat_minor": 0,
  "metadata": {
    "colab": {
      "provenance": [],
      "authorship_tag": "ABX9TyPDHnOKj9CkK90LozQMn5JZ",
      "include_colab_link": true
    },
    "kernelspec": {
      "name": "python3",
      "display_name": "Python 3"
    },
    "language_info": {
      "name": "python"
    }
  },
  "cells": [
    {
      "cell_type": "markdown",
      "metadata": {
        "id": "view-in-github",
        "colab_type": "text"
      },
      "source": [
        "<a href=\"https://colab.research.google.com/github/mushafiq07/CODEWAY/blob/main/Calculator.ipynb\" target=\"_parent\"><img src=\"https://colab.research.google.com/assets/colab-badge.svg\" alt=\"Open In Colab\"/></a>"
      ]
    },
    {
      "cell_type": "code",
      "execution_count": null,
      "metadata": {
        "id": "sPMcxXZRSy3V"
      },
      "outputs": [],
      "source": [
        "def calculate(n1, n2, op):\n",
        "    if op == '+':\n",
        "        return n1 + n2\n",
        "    elif op == '-':\n",
        "        return n1 - n2\n",
        "    elif op == '*':\n",
        "        return n1 * n2\n",
        "    elif op == '/':\n",
        "        if n2 == 0:\n",
        "            raise ValueError(\"Division by zero is not allowed.\")\n",
        "        return n1 / n2\n",
        "    elif op == '^':\n",
        "        return n1 ** n2\n",
        "    else:\n",
        "        raise ValueError('Invalid operator')\n",
        "\n",
        "continue_calculating = True\n",
        "while continue_calculating:\n",
        "    try:\n",
        "        number1 = float(input('Enter first number: '))\n",
        "        op = input('Enter operator (+,-,*,/,^): ')\n",
        "        number2 = float(input('Enter second number: '))\n",
        "        result = calculate(number1, number2, op)\n",
        "        print('=', result)\n",
        "    except ValueError as e:\n",
        "        print(e)\n",
        "    finally:\n",
        "        yes_or_no = input('Continue? (y/n): ')\n",
        "        if yes_or_no == 'n':\n",
        "            continue_calculating = False"
      ]
    }
  ]
}